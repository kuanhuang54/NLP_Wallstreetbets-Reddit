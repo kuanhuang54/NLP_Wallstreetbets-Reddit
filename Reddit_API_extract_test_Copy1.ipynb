{
 "cells": [
  {
   "cell_type": "code",
   "execution_count": 1,
   "id": "higher-blade",
   "metadata": {
    "colab": {
     "base_uri": "https://localhost:8080/"
    },
    "id": "higher-blade",
    "outputId": "1c0d76ff-dd27-4061-9cb1-d81066e72ae8"
   },
   "outputs": [
    {
     "name": "stdout",
     "output_type": "stream",
     "text": [
      "Requirement already satisfied: psaw in d:\\anaconda\\lib\\site-packages (0.1.0)\n",
      "Requirement already satisfied: Click in d:\\anaconda\\lib\\site-packages (from psaw) (8.0.4)\n",
      "Requirement already satisfied: requests in d:\\anaconda\\lib\\site-packages (from psaw) (2.27.1)\n",
      "Requirement already satisfied: colorama in d:\\anaconda\\lib\\site-packages (from Click->psaw) (0.4.4)\n",
      "Requirement already satisfied: certifi>=2017.4.17 in d:\\anaconda\\lib\\site-packages (from requests->psaw) (2021.10.8)\n",
      "Requirement already satisfied: charset-normalizer~=2.0.0 in d:\\anaconda\\lib\\site-packages (from requests->psaw) (2.0.4)\n",
      "Requirement already satisfied: urllib3<1.27,>=1.21.1 in d:\\anaconda\\lib\\site-packages (from requests->psaw) (1.26.9)\n",
      "Requirement already satisfied: idna<4,>=2.5 in d:\\anaconda\\lib\\site-packages (from requests->psaw) (3.3)\n"
     ]
    }
   ],
   "source": [
    "!pip install psaw"
   ]
  },
  {
   "cell_type": "code",
   "execution_count": 2,
   "id": "starting-cover",
   "metadata": {
    "id": "starting-cover"
   },
   "outputs": [],
   "source": [
    "from psaw import PushshiftAPI "
   ]
  },
  {
   "cell_type": "code",
   "execution_count": 3,
   "id": "breathing-backup",
   "metadata": {
    "id": "breathing-backup"
   },
   "outputs": [],
   "source": [
    "import datetime as dt\n",
    "import logging"
   ]
  },
  {
   "cell_type": "code",
   "execution_count": 4,
   "id": "derived-facing",
   "metadata": {
    "id": "derived-facing"
   },
   "outputs": [],
   "source": [
    "handler = logging.StreamHandler()\n",
    "handler.setLevel(logging.INFO)"
   ]
  },
  {
   "cell_type": "code",
   "execution_count": 5,
   "id": "polished-filename",
   "metadata": {
    "id": "polished-filename"
   },
   "outputs": [],
   "source": [
    "api = PushshiftAPI()\n",
    "start_epoch=int(dt.datetime(2020, 12, 1).timestamp()) # Change numbers to start of the collection date (YMD)\n",
    "end_epoch=int(dt.datetime(2021, 4, 30).timestamp()) # Change numbers to end of the collection date (YMD)\n",
    "list_subreddit = [\"wallstreetbets\"]"
   ]
  },
  {
   "cell_type": "code",
   "execution_count": 6,
   "id": "flush-affiliate",
   "metadata": {
    "id": "flush-affiliate"
   },
   "outputs": [],
   "source": [
    "import gc\n",
    "import pandas as pd\n",
    "for i in list_subreddit:\n",
    "    temp = api.search_submissions(after=start_epoch,before=end_epoch,\n",
    "                        subreddit=i) "
   ]
  },
  {
   "cell_type": "code",
   "execution_count": 7,
   "id": "junior-potter",
   "metadata": {
    "colab": {
     "base_uri": "https://localhost:8080/",
     "height": 520
    },
    "id": "junior-potter",
    "outputId": "b2e0923c-f8a2-4a87-8a55-a3fdd32e22c4"
   },
   "outputs": [
    {
     "name": "stderr",
     "output_type": "stream",
     "text": [
      "D:\\Anaconda\\lib\\site-packages\\psaw\\PushshiftAPI.py:192: UserWarning: Got non 200 code 429\n",
      "  warnings.warn(\"Got non 200 code %s\" % response.status_code)\n",
      "D:\\Anaconda\\lib\\site-packages\\psaw\\PushshiftAPI.py:180: UserWarning: Unable to connect to pushshift.io. Retrying after backoff.\n",
      "  warnings.warn(\"Unable to connect to pushshift.io. Retrying after backoff.\")\n"
     ]
    }
   ],
   "source": [
    "pd.DataFrame([obj.d_ for obj in temp]).to_csv( i+\".csv\", index = False) "
   ]
  },
  {
   "cell_type": "code",
   "execution_count": null,
   "id": "becoming-chance",
   "metadata": {
    "id": "becoming-chance"
   },
   "outputs": [
    {
     "name": "stderr",
     "output_type": "stream",
     "text": [
      "D:\\Anaconda\\lib\\site-packages\\psaw\\PushshiftAPI.py:192: UserWarning: Got non 200 code 502\n",
      "  warnings.warn(\"Got non 200 code %s\" % response.status_code)\n",
      "D:\\Anaconda\\lib\\site-packages\\psaw\\PushshiftAPI.py:180: UserWarning: Unable to connect to pushshift.io. Retrying after backoff.\n",
      "  warnings.warn(\"Unable to connect to pushshift.io. Retrying after backoff.\")\n"
     ]
    }
   ],
   "source": [
    "del(temp) #delete temp to save the space\n",
    "gc.collect() #garbage collect \n",
    "temp = api.search_comments(after=start_epoch,before=end_epoch,\n",
    "                        subreddit=i) \n",
    "# Add option q = \"keyword\", in front of subreddit=i if you are only interested in comments that contain a certain keyword.\n",
    "pd.DataFrame([obj.d_ for obj in temp]).to_csv( i+\"_comments.csv\", index = False) \n",
    "# Add \"directory path\" + in front of  i+\".csv\" if you want to store data in certain location. \n",
    "  "
   ]
  },
  {
   "cell_type": "code",
   "execution_count": null,
   "id": "w4XQf1am0TwD",
   "metadata": {
    "id": "w4XQf1am0TwD"
   },
   "outputs": [],
   "source": [
    "from google.colab import drive\n",
    "drive.mount('/content/drive')"
   ]
  },
  {
   "cell_type": "code",
   "execution_count": null,
   "id": "fancy-clause",
   "metadata": {
    "id": "fancy-clause"
   },
   "outputs": [],
   "source": [
    "del(temp)\n",
    "gc.collect()"
   ]
  },
  {
   "cell_type": "code",
   "execution_count": null,
   "id": "ESV2Mh5PNWWG",
   "metadata": {
    "id": "ESV2Mh5PNWWG"
   },
   "outputs": [],
   "source": []
  }
 ],
 "metadata": {
  "colab": {
   "name": "Reddit API extract test-Copy1.ipynb",
   "provenance": []
  },
  "kernelspec": {
   "display_name": "Python 3 (ipykernel)",
   "language": "python",
   "name": "python3"
  },
  "language_info": {
   "codemirror_mode": {
    "name": "ipython",
    "version": 3
   },
   "file_extension": ".py",
   "mimetype": "text/x-python",
   "name": "python",
   "nbconvert_exporter": "python",
   "pygments_lexer": "ipython3",
   "version": "3.9.12"
  }
 },
 "nbformat": 4,
 "nbformat_minor": 5
}
